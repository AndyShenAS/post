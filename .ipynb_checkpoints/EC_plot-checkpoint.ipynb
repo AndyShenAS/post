{
 "cells": [
  {
   "cell_type": "code",
   "execution_count": 33,
   "metadata": {},
   "outputs": [
    {
     "name": "stdout",
     "output_type": "stream",
     "text": [
      "44\n"
     ]
    },
    {
     "data": {
      "image/png": "[encoded data removed]",
      "text/plain": [
       "<matplotlib.figure.Figure at 0x117531a20>"
      ]
     },
     "metadata": {},
     "output_type": "display_data"
    }
   ],
   "source": [
    "%matplotlib inline\n",
    "import numpy as np\n",
    "from matplotlib import pyplot as plt\n",
    "def EC_define(a,b,mod):\n",
    "    return lambda x:(x**3+a*x+b) % mod\n",
    "def EC_curve_f(x,curve,mod):\n",
    "    yList = []\n",
    "    y2 = curve(x)\n",
    "    for i in range(mod-1):\n",
    "        y = i+1\n",
    "        if y**2 % mod == y2:\n",
    "            yList.append(y)\n",
    "    return yList\n",
    "    \n",
    "def getCurvePoints(p):\n",
    "    ec_curve = EC_define(-5,8,p)\n",
    "    field = list(np.arange(p-1)+1)\n",
    "    pointSet = []\n",
    "    for v in field:\n",
    "        yList = EC_curve_f(v,ec_curve,p)\n",
    "        for y in yList:\n",
    "            pointSet.append((v,y))\n",
    "    return pointSet\n",
    "def find_inverse_in_Fp(a,p):\n",
    "    for i in range(p-1)\n",
    "        if a * (i+1) % p == 1\n",
    "        return i+1\n",
    "def Fp_divide(a,b,p):\n",
    "    # calculate a/b in Fp\n",
    "    b_inv = find_inverse_in_Fp(b,p)\n",
    "    return a*b_inv % p\n",
    "def curveAdd(a,b,mod,p1,p2)\n",
    "    curve = EC_define(a,b,mod)\n",
    "    (x1,y1) = p1\n",
    "    (x2,y2) = p2\n",
    "    k = None\n",
    "    b = None\n",
    "    if x1==x2 and y1==y2:\n",
    "        k = Fp_divide(3*x1**2+a,2*y1)\n",
    "        m = Fp_divide(-x1**3+a*x1+2*b,2*y1)\n",
    "    else if x1!=x2 :\n",
    "        k = Fp_divide(y2-y1,x2-x1)\n",
    "        m = Fp_divide(y1*x2-x1*y2,x2-x1)\n",
    "    return (k**2-(x1+x2),-k**3+k*(x1+x2)-b)\n",
    "points = getCurvePoints(37)\n",
    "#ec_curve = EC_define(-5,8,29)\n",
    "#ec_curve(8)\n",
    "print(len(points))\n",
    "fig, ax = plt.subplots()\n",
    "DPI = fig.get_dpi()\n",
    "fig.set_size_inches(600.0 / float(DPI), 600.0 / float(DPI))\n",
    "for (x,y) in points:\n",
    "    ax.scatter(x, y, c='blue', s=30.0, label='blue',\n",
    "                   alpha=0.3, edgecolors='none')"
   ]
  },
  {
   "cell_type": "code",
   "execution_count": 3,
   "metadata": {},
   "outputs": [
    {
     "name": "stdout",
     "output_type": "stream",
     "text": [
      "0\n",
      "1\n",
      "8\n",
      "27\n",
      "64\n"
     ]
    }
   ],
   "source": [
    "for i in range(5):\n",
    "    print(i**3)"
   ]
  },
  {
   "cell_type": "code",
   "execution_count": null,
   "metadata": {
    "collapsed": true
   },
   "outputs": [],
   "source": []
  }
 ],
 "metadata": {
  "kernelspec": {
   "display_name": "Python 3",
   "language": "python",
   "name": "python3"
  },
  "language_info": {
   "codemirror_mode": {
    "name": "ipython",
    "version": 3
   },
   "file_extension": ".py",
   "mimetype": "text/x-python",
   "name": "python",
   "nbconvert_exporter": "python",
   "pygments_lexer": "ipython3",
   "version": "3.6.1"
  }
 },
 "nbformat": 4,
 "nbformat_minor": 2
}
