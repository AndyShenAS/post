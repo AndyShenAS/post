{
 "cells": [
  {
   "cell_type": "code",
   "execution_count": 114,
   "metadata": {},
   "outputs": [
    {
     "name": "stdout",
     "output_type": "stream",
     "text": [
      "rank=45,points:[(0, 0), (1, 2), (1, 35), (5, 16), (5, 21), (6, 3), (6, 34), (8, 6), (8, 31), (9, 10), (9, 27), (10, 12), (10, 25), (11, 10), (11, 27), (12, 14), (12, 23), (16, 18), (16, 19), (17, 10), (17, 27), (19, 1), (19, 36), (20, 8), (20, 29), (21, 5), (21, 32), (22, 1), (22, 36), (26, 8), (26, 29), (28, 8), (28, 29), (30, 12), (30, 25), (31, 9), (31, 28), (33, 1), (33, 36), (34, 12), (34, 25), (35, 11), (35, 26), (36, 7), (36, 30)]\n"
     ]
    },
    {
     "data": {
      "image/png": "[encoded data removed]",
      "text/plain": [
       "<matplotlib.figure.Figure at 0x1173ca860>"
      ]
     },
     "metadata": {},
     "output_type": "display_data"
    }
   ],
   "source": [
    "%matplotlib inline\n",
    "import numpy as np\n",
    "from matplotlib import pyplot as plt\n",
    "def EC_define(a,b,mod):\n",
    "    return lambda x:(x**3+a*x+b) % mod\n",
    "def EC_curve_f(x,curve,mod):\n",
    "    yList = []\n",
    "    y2 = curve(x)\n",
    "    for i in range(mod-1):\n",
    "        y = i+1\n",
    "        if y**2 % mod == y2:\n",
    "            yList.append(y)\n",
    "    return yList\n",
    "    \n",
    "def getCurvePoints(a,b,p):\n",
    "    ec_curve = EC_define(a,b,p)\n",
    "    field = list(np.arange(p-1)+1)\n",
    "    pointSet = [(0,0)]\n",
    "    for v in field:\n",
    "        yList = EC_curve_f(v,ec_curve,p)\n",
    "        for y in yList:\n",
    "            pointSet.append((v,y))\n",
    "    return pointSet\n",
    "def find_inverse_in_Fp(a,p):\n",
    "    for i in range(p-1):\n",
    "        if a * (i+1) % p == 1:\n",
    "            return i+1\n",
    "def Fp_divide(a,b,p):\n",
    "    # calculate a/b in Fp\n",
    "    b_inv = find_inverse_in_Fp(b,p)\n",
    "    return a*b_inv % p\n",
    "def curveAdd(a,b,mod,p1,p2):\n",
    "    curve = EC_define(a,b,mod)\n",
    "    (x1,y1) = p1\n",
    "    (x2,y2) = p2\n",
    "    #print(p1,p2)\n",
    "    k = None\n",
    "    m = None\n",
    "    if x1==0 and y1 ==0:\n",
    "        return p2\n",
    "    elif x2==0 and y2 ==0:\n",
    "        return p1\n",
    "    elif x1==x2 and y1!=y2:\n",
    "        return (0,0)\n",
    "    elif x1==x2 and y1==y2 and y2==0:\n",
    "        return (0,0)\n",
    "    elif x1==x2 and y1==y2:\n",
    "        k = Fp_divide(3*x1**2+a,2*y1,mod)\n",
    "        m = Fp_divide(-x1**3+a*x1+2*b,2*y1,mod)\n",
    "    elif x1!=x2:\n",
    "        k = Fp_divide(y2-y1,x2-x1,mod)\n",
    "        m = Fp_divide(y1*x2-x1*y2,x2-x1,mod)\n",
    "    return ((k**2-(x1+x2)) % mod,(-(k**3)+k*(x1+x2)-m) % mod)\n",
    "\n",
    "\n",
    "points = getCurvePoints(-5,8,37)\n",
    "print('rank={0},points:{1}'.format(len(points),points))\n",
    "fig, ax = plt.subplots()\n",
    "DPI = fig.get_dpi()\n",
    "fig.set_size_inches(600.0 / float(DPI), 600.0 / float(DPI))\n",
    "for (x,y) in points:\n",
    "    ax.scatter(x, y, c='blue', s=30.0, label='blue',\n",
    "                   alpha=0.3, edgecolors='None')"
   ]
  },
  {
   "cell_type": "code",
   "execution_count": 110,
   "metadata": {},
   "outputs": [
    {
     "name": "stdout",
     "output_type": "stream",
     "text": [
      "size=15,generated points=[(1, 2), (26, 29), (22, 36), (11, 10), (36, 7), (34, 25), (5, 21), (5, 16), (34, 12), (36, 30), (11, 27), (22, 1), (26, 8), (1, 35), (0, 0)]\n"
     ]
    },
    {
     "data": {
      "image/png": "[encoded data removed]",
      "text/plain": [
       "<matplotlib.figure.Figure at 0x117b2da58>"
      ]
     },
     "metadata": {},
     "output_type": "display_data"
    }
   ],
   "source": [
    "p1 = (1,2)\n",
    "p2 = (6, 34)\n",
    "#print(Fp_divide(10,4,37))\n",
    "#print(Fp_divide(1,2,37))\n",
    "p1GSet = [p1]\n",
    "add = p1\n",
    "for _ in range(45):\n",
    "    add = curveAdd(-5,8,37,p1,add)\n",
    "    if add not in p1GSet:\n",
    "        p1GSet.append(add)\n",
    "print('size={0},generated points={1}'.format(len(p1GSet),p1GSet))\n",
    "fig, ax = plt.subplots()\n",
    "DPI = fig.get_dpi()\n",
    "fig.set_size_inches(600.0 / float(DPI), 600.0 / float(DPI))\n",
    "for (x,y) in points:\n",
    "    ax.scatter(x, y, c='blue', s=30.0, label='blue',\n",
    "                   alpha=0.3, edgecolors='none')\n",
    "for (x,y) in p1GSet:\n",
    "    ax.scatter(x, y, c='red', s=60.0, label='red',\n",
    "                   alpha=0.5, edgecolors='Red')"
   ]
  },
  {
   "cell_type": "code",
   "execution_count": 82,
   "metadata": {},
   "outputs": [
    {
     "data": {
      "text/plain": [
       "26"
      ]
     },
     "execution_count": 82,
     "metadata": {},
     "output_type": "execute_result"
    }
   ],
   "source": [
    "(18**2-2)%37"
   ]
  },
  {
   "cell_type": "code",
   "execution_count": null,
   "metadata": {
    "collapsed": true
   },
   "outputs": [],
   "source": []
  }
 ],
 "metadata": {
  "kernelspec": {
   "display_name": "Python 3",
   "language": "python",
   "name": "python3"
  },
  "language_info": {
   "codemirror_mode": {
    "name": "ipython",
    "version": 3
   },
   "file_extension": ".py",
   "mimetype": "text/x-python",
   "name": "python",
   "nbconvert_exporter": "python",
   "pygments_lexer": "ipython3",
   "version": "3.6.1"
  }
 },
 "nbformat": 4,
 "nbformat_minor": 2
}
